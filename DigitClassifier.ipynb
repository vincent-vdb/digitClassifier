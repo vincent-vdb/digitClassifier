{
 "cells": [
  {
   "cell_type": "code",
   "execution_count": null,
   "metadata": {},
   "outputs": [],
   "source": [
    "import numpy as np\n",
    "import pandas as pd\n",
    "import csv\n",
    "import matplotlib.pyplot as plt\n",
    "\n",
    "from keras.models import Sequential\n",
    "from keras.layers import Input, Dense, MaxPooling2D, Conv2D, Flatten\n",
    "from keras.optimizers import Adam\n",
    "from keras import regularizers\n",
    "from keras import optimizers\n",
    "from keras import initializers\n",
    "from keras.preprocessing import image\n",
    "\n",
    "import keras.backend as K\n",
    "\n",
    "from sklearn.preprocessing import OneHotEncoder\n"
   ]
  },
  {
   "cell_type": "code",
   "execution_count": null,
   "metadata": {},
   "outputs": [],
   "source": [
    "trainfile = pd.read_csv(\"train.csv\")"
   ]
  },
  {
   "cell_type": "code",
   "execution_count": null,
   "metadata": {},
   "outputs": [],
   "source": [
    "trainfile.head()"
   ]
  },
  {
   "cell_type": "code",
   "execution_count": null,
   "metadata": {},
   "outputs": [],
   "source": [
    "trainfile.shape"
   ]
  },
  {
   "cell_type": "code",
   "execution_count": null,
   "metadata": {},
   "outputs": [],
   "source": [
    "xtrain = trainfile.iloc[:,1:].values.astype('float32')\n",
    "ytrain = trainfile.iloc[:,0].values.astype('int')\n",
    "\n",
    "xtrain = xtrain/255\n",
    "\n",
    "\n",
    "xtrain = xtrain.reshape(xtrain.shape[0], 28, 28, 1)"
   ]
  },
  {
   "cell_type": "code",
   "execution_count": null,
   "metadata": {},
   "outputs": [],
   "source": [
    "xtrain.shape"
   ]
  },
  {
   "cell_type": "code",
   "execution_count": null,
   "metadata": {},
   "outputs": [],
   "source": [
    "enc = OneHotEncoder(n_values=10)\n",
    "\n",
    "enc.fit(ytrain)\n",
    "\n",
    "labels = enc.transform(ytrain).toarray()\n",
    "\n",
    "#ytrain[:10]\n",
    "\n",
    "ylabels = labels.reshape(ytrain.shape[0], 10)\n",
    "\n",
    "#blabla = labEnc.transform(ytrain).toarray()\n",
    "\n",
    "#blabla.shape"
   ]
  },
  {
   "cell_type": "code",
   "execution_count": null,
   "metadata": {},
   "outputs": [],
   "source": [
    "plt.imshow(xtrain[6,:,:,0])"
   ]
  },
  {
   "cell_type": "code",
   "execution_count": null,
   "metadata": {},
   "outputs": [],
   "source": [
    "def model(Xshape):\n",
    "    \n",
    "    mod = Sequential()\n",
    "    mod.add(Conv2D(8, (3, 3), activation='relu', kernel_initializer='glorot_normal', input_shape=Xshape))\n",
    "    mod.add(MaxPooling2D(pool_size=(2, 2)))\n",
    "    \n",
    "    mod.add(Conv2D(16, (3, 3), activation='relu', kernel_initializer='glorot_normal'))\n",
    "    mod.add(MaxPooling2D(pool_size=(2, 2)))\n",
    "\n",
    "    mod.add(Conv2D(32, (3, 3), activation='relu', kernel_initializer='glorot_normal'))\n",
    "    mod.add(MaxPooling2D(pool_size=(2, 2)))\n",
    "\n",
    "    mod.add(Flatten())\n",
    "    mod.add(Dense(256, activation='relu', kernel_initializer='glorot_normal', kernel_regularizer=regularizers.l2(0.01)))\n",
    "    mod.add(Dense(128, activation='relu', kernel_initializer='glorot_normal', kernel_regularizer=regularizers.l2(0.01)))\n",
    "    mod.add(Dense(64, activation='relu', kernel_initializer='glorot_normal', kernel_regularizer=regularizers.l2(0.01)))\n",
    "    mod.add(Dense(10, activation='softmax', kernel_initializer='glorot_normal'))\n",
    "    \n",
    "    return mod"
   ]
  },
  {
   "cell_type": "code",
   "execution_count": null,
   "metadata": {},
   "outputs": [],
   "source": [
    "def model2(Xshape):\n",
    "    \n",
    "    mod = Sequential()\n",
    "    \n",
    "    mod.add(Conv2D(16, (5, 5), activation='relu', kernel_initializer='glorot_normal', input_shape=Xshape))\n",
    "    mod.add(MaxPooling2D(pool_size=(2, 2)))\n",
    "\n",
    "    mod.add(Conv2D(32, (5, 5), activation='relu', kernel_initializer='glorot_normal'))\n",
    "    mod.add(MaxPooling2D(pool_size=(2, 2)))\n",
    "\n",
    "    mod.add(Flatten())\n",
    "    mod.add(Dense(256, activation='relu', kernel_initializer='glorot_normal', kernel_regularizer=regularizers.l2(0.005)))\n",
    "    mod.add(Dense(128, activation='relu', kernel_initializer='glorot_normal', kernel_regularizer=regularizers.l2(0.005)))\n",
    "    mod.add(Dense(64, activation='relu', kernel_initializer='glorot_normal', kernel_regularizer=regularizers.l2(0.005)))\n",
    "    mod.add(Dense(10, activation='softmax', kernel_initializer='glorot_normal'))\n",
    "    \n",
    "    return mod"
   ]
  },
  {
   "cell_type": "code",
   "execution_count": null,
   "metadata": {},
   "outputs": [],
   "source": [
    "mymodel = model2(xtrain.shape[1:])\n",
    "opt = optimizers.Adam(lr=0.01, decay=0.0001)\n",
    "\n",
    "\n",
    "mymodel.compile(loss='categorical_crossentropy', optimizer=opt, metrics=['accuracy'])"
   ]
  },
  {
   "cell_type": "code",
   "execution_count": null,
   "metadata": {},
   "outputs": [],
   "source": []
  },
  {
   "cell_type": "code",
   "execution_count": null,
   "metadata": {},
   "outputs": [],
   "source": [
    "# First train with small mini batch size and default learning rate\n",
    "mymodel.fit(xtrain, ylabels, epochs = 20, batch_size=128)\n",
    "# Then train with smaller learning rate and larger batch size\n",
    "K.set_value(mymodel.optimizer.lr, 0.001)\n",
    "mymodel.fit(xtrain, ylabels, epochs = 10, batch_size=512)\n",
    "K.set_value(mymodel.optimizer.lr, 0.0001)\n",
    "mymodel.fit(xtrain, ylabels, epochs = 10, batch_size=1024)\n"
   ]
  },
  {
   "cell_type": "code",
   "execution_count": null,
   "metadata": {},
   "outputs": [],
   "source": []
  },
  {
   "cell_type": "code",
   "execution_count": null,
   "metadata": {},
   "outputs": [],
   "source": [
    "testfile = pd.read_csv(\"test.csv\")\n",
    "xtest = testfile.values.astype('float32')\n",
    "\n",
    "xtest = xtest/255\n",
    "\n",
    "xtest = xtest.reshape(xtest.shape[0], 28, 28, 1)"
   ]
  },
  {
   "cell_type": "code",
   "execution_count": null,
   "metadata": {},
   "outputs": [],
   "source": [
    "predictions = mymodel.predict_classes(xtest)\n",
    "\n",
    "submissions=pd.DataFrame({\"ImageId\": list(range(1,len(predictions)+1)),\n",
    "                         \"Label\": predictions})\n",
    "submissions.to_csv(\"preds.csv\", index=False, header=True)"
   ]
  },
  {
   "cell_type": "code",
   "execution_count": null,
   "metadata": {},
   "outputs": [],
   "source": []
  }
 ],
 "metadata": {
  "kernelspec": {
   "display_name": "Python 2",
   "language": "python",
   "name": "python2"
  },
  "language_info": {
   "codemirror_mode": {
    "name": "ipython",
    "version": 2
   },
   "file_extension": ".py",
   "mimetype": "text/x-python",
   "name": "python",
   "nbconvert_exporter": "python",
   "pygments_lexer": "ipython2",
   "version": "2.7.12"
  }
 },
 "nbformat": 4,
 "nbformat_minor": 2
}
