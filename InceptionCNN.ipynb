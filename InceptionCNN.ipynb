{
 "cells": [
  {
   "cell_type": "code",
   "execution_count": null,
   "metadata": {},
   "outputs": [],
   "source": [
    "import numpy as np\n",
    "import pandas as pd\n",
    "import csv\n",
    "import matplotlib.pyplot as plt\n",
    "\n",
    "from keras.models import Sequential\n",
    "from keras.layers import Input, Dense, MaxPooling2D, Conv2D, Flatten, concatenate\n",
    "from keras.optimizers import Adam\n",
    "from keras import regularizers\n",
    "from keras import optimizers\n",
    "from keras import initializers\n",
    "from keras.preprocessing import image\n",
    "from keras.models import Model\n",
    "\n",
    "import keras.backend as K\n",
    "\n",
    "from sklearn.preprocessing import OneHotEncoder"
   ]
  },
  {
   "cell_type": "code",
   "execution_count": null,
   "metadata": {},
   "outputs": [],
   "source": [
    "# Read the train dataset\n",
    "trainfile = pd.read_csv(\"train.csv\")\n",
    "\n",
    "# Get the input data and label\n",
    "xtrain = trainfile.iloc[:,1:].values.astype('float32')\n",
    "ytrain = trainfile.iloc[:,0].values.astype('int')\n",
    "\n",
    "# Rescale input\n",
    "xtrain = xtrain/255\n",
    "\n",
    "# Get the labels as one hot encoding arrays\n",
    "enc = OneHotEncoder(n_values=10)\n",
    "enc.fit(ytrain)\n",
    "labels = enc.transform(ytrain).toarray()\n",
    "\n",
    "# Reshape\n",
    "xtrain = xtrain.reshape(xtrain.shape[0], 28, 28, 1)\n",
    "ylabels = labels.reshape(ytrain.shape[0], 10)"
   ]
  },
  {
   "cell_type": "code",
   "execution_count": null,
   "metadata": {},
   "outputs": [],
   "source": [
    "# Define the model\n",
    "def model(Xshape):\n",
    "    \n",
    "    input_img = Input(shape=Xshape)\n",
    "\n",
    "    tower_1 = Conv2D(16, (3, 3), padding='same', activation='relu')(input_img)\n",
    "    tower_1 = MaxPooling2D(pool_size=(2, 2))(tower_1)\n",
    "    tower_1 = Conv2D(32, (3, 3), padding='same', activation='relu')(tower_1)\n",
    "    tower_1 = MaxPooling2D(pool_size=(2, 2))(tower_1)\n",
    "    \n",
    "    tower_2 = Conv2D(16, (5, 5), padding='same', activation='relu')(input_img)\n",
    "    tower_2 = MaxPooling2D(pool_size=(2, 2))(tower_2)\n",
    "    tower_2 = Conv2D(32, (5, 5), padding='same', activation='relu')(tower_2)\n",
    "    tower_2 = MaxPooling2D(pool_size=(2, 2))(tower_2)\n",
    "\n",
    "    output = concatenate([tower_1, tower_2], axis=1)\n",
    "    \n",
    "    output = Flatten()(output)\n",
    "    output = Dense(256, activation='relu', kernel_initializer='glorot_normal', kernel_regularizer=regularizers.l2(0.01))(output)\n",
    "    output = Dense(128, activation='relu', kernel_initializer='glorot_normal', kernel_regularizer=regularizers.l2(0.01))(output)\n",
    "    output = Dense(64, activation='relu', kernel_initializer='glorot_normal', kernel_regularizer=regularizers.l2(0.01))(output)\n",
    "    output = Dense(10, activation='softmax', kernel_initializer='glorot_normal')(output)\n",
    "    \n",
    "    model = Model(inputs = input_img, outputs = output)\n",
    "\n",
    "    return model"
   ]
  },
  {
   "cell_type": "code",
   "execution_count": null,
   "metadata": {},
   "outputs": [],
   "source": [
    "# Compile the model \n",
    "mymodel = model(xtrain.shape[1:])\n",
    "opt = optimizers.Adam(lr=0.01, decay=0.0002)\n",
    "\n",
    "mymodel.compile(loss='categorical_crossentropy', optimizer=opt, metrics=['accuracy'])"
   ]
  },
  {
   "cell_type": "code",
   "execution_count": null,
   "metadata": {},
   "outputs": [],
   "source": [
    "# Do some image augmentation if wanted\n",
    "gen = image.ImageDataGenerator(\n",
    "    rotation_range=10,\n",
    "    width_shift_range=0.1,\n",
    "    height_shift_range=0.1,\n",
    "    zoom_range=0.1,\n",
    "    shear_range=0.1)\n",
    "\n",
    "mymodel.fit_generator(gen.flow(xtrain, ylabels, batch_size=128), epochs = 20, steps_per_epoch=len(xtrain)/128)"
   ]
  },
  {
   "cell_type": "code",
   "execution_count": null,
   "metadata": {},
   "outputs": [],
   "source": [
    "# First train with small mini batch size and default learning rate\n",
    "#mymodel.fit(xtrain, ylabels, epochs = 30, batch_size=64)\n",
    "# Then train with smaller learning rate and larger batch size\n",
    "#K.set_value(mymodel.optimizer.lr, 0.001)\n",
    "#mymodel.fit(xtrain, ylabels, epochs = 10, batch_size=512)\n",
    "#K.set_value(mymodel.optimizer.lr, 0.0001)\n",
    "mymodel.fit(xtrain, ylabels, epochs = 5, batch_size=1024)\n"
   ]
  },
  {
   "cell_type": "code",
   "execution_count": null,
   "metadata": {},
   "outputs": [],
   "source": [
    "# Read the test file and preprocess it\n",
    "testfile = pd.read_csv(\"test.csv\")\n",
    "xtest = testfile.values.astype('float32')\n",
    "\n",
    "xtest = xtest/255\n",
    "\n",
    "xtest = xtest.reshape(xtest.shape[0], 28, 28, 1)"
   ]
  },
  {
   "cell_type": "code",
   "execution_count": null,
   "metadata": {},
   "outputs": [],
   "source": [
    "# Make the predictions and save them to a file\n",
    "predictions = mymodel.predict(xtest)\n",
    "predictions = np.argmax(predictions, axis=1)\n",
    "\n",
    "submissions=pd.DataFrame({\"ImageId\": list(range(1,len(predictions)+1)),\n",
    "                         \"Label\": predictions})\n",
    "submissions.to_csv(\"predsInception.csv\", index=False, header=True)"
   ]
  },
  {
   "cell_type": "code",
   "execution_count": null,
   "metadata": {},
   "outputs": [],
   "source": []
  }
 ],
 "metadata": {
  "kernelspec": {
   "display_name": "Python 2",
   "language": "python",
   "name": "python2"
  },
  "language_info": {
   "codemirror_mode": {
    "name": "ipython",
    "version": 2
   },
   "file_extension": ".py",
   "mimetype": "text/x-python",
   "name": "python",
   "nbconvert_exporter": "python",
   "pygments_lexer": "ipython2",
   "version": "2.7.12"
  }
 },
 "nbformat": 4,
 "nbformat_minor": 2
}
